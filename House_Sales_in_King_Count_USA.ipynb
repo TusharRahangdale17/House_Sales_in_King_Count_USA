{
 "cells": [
  {
   "cell_type": "markdown",
   "metadata": {},
   "source": [
    "<p style=\"text-align:center\">\n",
    "    <a href=\"https://skills.network/?utm_medium=Exinfluencer&utm_source=Exinfluencer&utm_content=000026UJ&utm_term=10006555&utm_id=NA-SkillsNetwork-Channel-SkillsNetworkCoursesIBMDeveloperSkillsNetworkDA0101ENSkillsNetwork20235326-2022-01-01\" target=\"_blank\">\n",
    "    <img src=\"https://cf-courses-data.s3.us.cloud-object-storage.appdomain.cloud/assets/logos/SN_web_lightmode.png\" width=\"200\" alt=\"Skills Network Logo\"  />\n",
    "    </a>\n",
    "</p>\n",
    "\n",
    "<h1 align=center><font size = 5>Data Analysis with Python</font></h1>\n"
   ]
  },
  {
   "cell_type": "markdown",
   "metadata": {},
   "source": [
    "# House Sales in King County, USA\n"
   ]
  },
  {
   "cell_type": "markdown",
   "metadata": {},
   "source": [
    "This dataset contains house sale prices for King County, which includes Seattle. It includes homes sold between May 2014 and May 2015.\n"
   ]
  },
  {
   "cell_type": "markdown",
   "metadata": {},
   "source": [
    "| Variable      | Description                                                                                                 |\n",
    "| ------------- | ----------------------------------------------------------------------------------------------------------- |\n",
    "| id            | A notation for a house                                                                                      |\n",
    "| date          | Date house was sold                                                                                         |\n",
    "| price         | Price is prediction target                                                                                  |\n",
    "| bedrooms      | Number of bedrooms                                                                                          |\n",
    "| bathrooms     | Number of bathrooms                                                                                         |\n",
    "| sqft_living   | Square footage of the home                                                                                  |\n",
    "| sqft_lot      | Square footage of the lot                                                                                   |\n",
    "| floors        | Total floors (levels) in house                                                                              |\n",
    "| waterfront    | House which has a view to a waterfront                                                                      |\n",
    "| view          | Has been viewed                                                                                             |\n",
    "| condition     | How good the condition is overall                                                                           |\n",
    "| grade         | overall grade given to the housing unit, based on King County grading system                                |\n",
    "| sqft_above    | Square footage of house apart from basement                                                                 |\n",
    "| sqft_basement | Square footage of the basement                                                                              |\n",
    "| yr_built      | Built Year                                                                                                  |\n",
    "| yr_renovated  | Year when house was renovated                                                                               |\n",
    "| zipcode       | Zip code                                                                                                    |\n",
    "| lat           | Latitude coordinate                                                                                         |\n",
    "| long          | Longitude coordinate                                                                                        |\n",
    "| sqft_living15 | Living room area in 2015(implies-- some renovations) This might or might not have affected the lotsize area |\n",
    "| sqft_lot15    | LotSize area in 2015(implies-- some renovations)                                                            |\n"
   ]
  },
  {
   "cell_type": "code",
   "execution_count": null,
   "metadata": {},
   "outputs": [],
   "source": [
    "#After executing the below command restart the kernel and run all cells.\n",
    "!pip3 install scikit-learn --upgrade --user"
   ]
  },
  {
   "cell_type": "markdown",
   "metadata": {},
   "source": [
    "You will require the following libraries:\n"
   ]
  },
  {
   "cell_type": "code",
   "execution_count": 1,
   "metadata": {},
   "outputs": [],
   "source": [
    "import pandas as pd\n",
    "import matplotlib.pyplot as plt\n",
    "import numpy as np\n",
    "import seaborn as sns\n",
    "from sklearn.pipeline import Pipeline\n",
    "from sklearn.preprocessing import StandardScaler,PolynomialFeatures\n",
    "from sklearn.linear_model import LinearRegression\n",
    "%matplotlib inline\n",
    "from sklearn.preprocessing import StandardScaler, MinMaxScaler"
   ]
  },
  {
   "cell_type": "markdown",
   "metadata": {},
   "source": [
    "# Module 1: Importing Data Sets\n"
   ]
  },
  {
   "cell_type": "markdown",
   "metadata": {},
   "source": [
    "Load the csv:\n"
   ]
  },
  {
   "cell_type": "code",
   "execution_count": 6,
   "metadata": {
    "jupyter": {
     "outputs_hidden": false
    }
   },
   "outputs": [],
   "source": [
    "df=pd.read_excel('C:\\\\Users\\\\SIDDHARTH\\\\Desktop\\\\Today\\\\project.xlsx')"
   ]
  },
  {
   "cell_type": "markdown",
   "metadata": {},
   "source": [
    "We use the method <code>head</code> to display the first 5 columns of the dataframe.\n"
   ]
  },
  {
   "cell_type": "code",
   "execution_count": 7,
   "metadata": {
    "scrolled": true
   },
   "outputs": [
    {
     "data": {
      "text/html": [
       "<div>\n",
       "<style scoped>\n",
       "    .dataframe tbody tr th:only-of-type {\n",
       "        vertical-align: middle;\n",
       "    }\n",
       "\n",
       "    .dataframe tbody tr th {\n",
       "        vertical-align: top;\n",
       "    }\n",
       "\n",
       "    .dataframe thead th {\n",
       "        text-align: right;\n",
       "    }\n",
       "</style>\n",
       "<table border=\"1\" class=\"dataframe\">\n",
       "  <thead>\n",
       "    <tr style=\"text-align: right;\">\n",
       "      <th></th>\n",
       "      <th>Unnamed: 0</th>\n",
       "      <th>id</th>\n",
       "      <th>date</th>\n",
       "      <th>price</th>\n",
       "      <th>bedrooms</th>\n",
       "      <th>bathrooms</th>\n",
       "      <th>sqft_living</th>\n",
       "      <th>sqft_lot</th>\n",
       "      <th>floors</th>\n",
       "      <th>waterfront</th>\n",
       "      <th>...</th>\n",
       "      <th>grade</th>\n",
       "      <th>sqft_above</th>\n",
       "      <th>sqft_basement</th>\n",
       "      <th>yr_built</th>\n",
       "      <th>yr_renovated</th>\n",
       "      <th>zipcode</th>\n",
       "      <th>lat</th>\n",
       "      <th>long</th>\n",
       "      <th>sqft_living15</th>\n",
       "      <th>sqft_lot15</th>\n",
       "    </tr>\n",
       "  </thead>\n",
       "  <tbody>\n",
       "    <tr>\n",
       "      <th>0</th>\n",
       "      <td>0</td>\n",
       "      <td>7129300520</td>\n",
       "      <td>20141013T000000</td>\n",
       "      <td>221900</td>\n",
       "      <td>3.0</td>\n",
       "      <td>1.00</td>\n",
       "      <td>1180</td>\n",
       "      <td>5650</td>\n",
       "      <td>1.0</td>\n",
       "      <td>0</td>\n",
       "      <td>...</td>\n",
       "      <td>7</td>\n",
       "      <td>1180</td>\n",
       "      <td>0</td>\n",
       "      <td>1955</td>\n",
       "      <td>0</td>\n",
       "      <td>98178</td>\n",
       "      <td>47.5112</td>\n",
       "      <td>-122.257</td>\n",
       "      <td>1340</td>\n",
       "      <td>5650</td>\n",
       "    </tr>\n",
       "    <tr>\n",
       "      <th>1</th>\n",
       "      <td>1</td>\n",
       "      <td>6414100192</td>\n",
       "      <td>20141209T000000</td>\n",
       "      <td>538000</td>\n",
       "      <td>3.0</td>\n",
       "      <td>2.25</td>\n",
       "      <td>2570</td>\n",
       "      <td>7242</td>\n",
       "      <td>2.0</td>\n",
       "      <td>0</td>\n",
       "      <td>...</td>\n",
       "      <td>7</td>\n",
       "      <td>2170</td>\n",
       "      <td>400</td>\n",
       "      <td>1951</td>\n",
       "      <td>1991</td>\n",
       "      <td>98125</td>\n",
       "      <td>47.7210</td>\n",
       "      <td>-122.319</td>\n",
       "      <td>1690</td>\n",
       "      <td>7639</td>\n",
       "    </tr>\n",
       "    <tr>\n",
       "      <th>2</th>\n",
       "      <td>2</td>\n",
       "      <td>5631500400</td>\n",
       "      <td>20150225T000000</td>\n",
       "      <td>180000</td>\n",
       "      <td>2.0</td>\n",
       "      <td>1.00</td>\n",
       "      <td>770</td>\n",
       "      <td>10000</td>\n",
       "      <td>1.0</td>\n",
       "      <td>0</td>\n",
       "      <td>...</td>\n",
       "      <td>6</td>\n",
       "      <td>770</td>\n",
       "      <td>0</td>\n",
       "      <td>1933</td>\n",
       "      <td>0</td>\n",
       "      <td>98028</td>\n",
       "      <td>47.7379</td>\n",
       "      <td>-122.233</td>\n",
       "      <td>2720</td>\n",
       "      <td>8062</td>\n",
       "    </tr>\n",
       "    <tr>\n",
       "      <th>3</th>\n",
       "      <td>3</td>\n",
       "      <td>2487200875</td>\n",
       "      <td>20141209T000000</td>\n",
       "      <td>604000</td>\n",
       "      <td>4.0</td>\n",
       "      <td>3.00</td>\n",
       "      <td>1960</td>\n",
       "      <td>5000</td>\n",
       "      <td>1.0</td>\n",
       "      <td>0</td>\n",
       "      <td>...</td>\n",
       "      <td>7</td>\n",
       "      <td>1050</td>\n",
       "      <td>910</td>\n",
       "      <td>1965</td>\n",
       "      <td>0</td>\n",
       "      <td>98136</td>\n",
       "      <td>47.5208</td>\n",
       "      <td>-122.393</td>\n",
       "      <td>1360</td>\n",
       "      <td>5000</td>\n",
       "    </tr>\n",
       "    <tr>\n",
       "      <th>4</th>\n",
       "      <td>4</td>\n",
       "      <td>1954400510</td>\n",
       "      <td>20150218T000000</td>\n",
       "      <td>510000</td>\n",
       "      <td>3.0</td>\n",
       "      <td>2.00</td>\n",
       "      <td>1680</td>\n",
       "      <td>8080</td>\n",
       "      <td>1.0</td>\n",
       "      <td>0</td>\n",
       "      <td>...</td>\n",
       "      <td>8</td>\n",
       "      <td>1680</td>\n",
       "      <td>0</td>\n",
       "      <td>1987</td>\n",
       "      <td>0</td>\n",
       "      <td>98074</td>\n",
       "      <td>47.6168</td>\n",
       "      <td>-122.045</td>\n",
       "      <td>1800</td>\n",
       "      <td>7503</td>\n",
       "    </tr>\n",
       "  </tbody>\n",
       "</table>\n",
       "<p>5 rows × 22 columns</p>\n",
       "</div>"
      ],
      "text/plain": [
       "   Unnamed: 0          id             date   price  bedrooms  bathrooms  \\\n",
       "0           0  7129300520  20141013T000000  221900       3.0       1.00   \n",
       "1           1  6414100192  20141209T000000  538000       3.0       2.25   \n",
       "2           2  5631500400  20150225T000000  180000       2.0       1.00   \n",
       "3           3  2487200875  20141209T000000  604000       4.0       3.00   \n",
       "4           4  1954400510  20150218T000000  510000       3.0       2.00   \n",
       "\n",
       "   sqft_living  sqft_lot  floors  waterfront  ...  grade  sqft_above  \\\n",
       "0         1180      5650     1.0           0  ...      7        1180   \n",
       "1         2570      7242     2.0           0  ...      7        2170   \n",
       "2          770     10000     1.0           0  ...      6         770   \n",
       "3         1960      5000     1.0           0  ...      7        1050   \n",
       "4         1680      8080     1.0           0  ...      8        1680   \n",
       "\n",
       "   sqft_basement  yr_built  yr_renovated  zipcode      lat     long  \\\n",
       "0              0      1955             0    98178  47.5112 -122.257   \n",
       "1            400      1951          1991    98125  47.7210 -122.319   \n",
       "2              0      1933             0    98028  47.7379 -122.233   \n",
       "3            910      1965             0    98136  47.5208 -122.393   \n",
       "4              0      1987             0    98074  47.6168 -122.045   \n",
       "\n",
       "   sqft_living15  sqft_lot15  \n",
       "0           1340        5650  \n",
       "1           1690        7639  \n",
       "2           2720        8062  \n",
       "3           1360        5000  \n",
       "4           1800        7503  \n",
       "\n",
       "[5 rows x 22 columns]"
      ]
     },
     "execution_count": 7,
     "metadata": {},
     "output_type": "execute_result"
    }
   ],
   "source": [
    "df.head()"
   ]
  },
  {
   "cell_type": "markdown",
   "metadata": {},
   "source": [
    "\n",
    "\n",
    "Display the data types of each column using the function dtypes\n"
   ]
  },
  {
   "cell_type": "code",
   "execution_count": 8,
   "metadata": {
    "jupyter": {
     "outputs_hidden": false
    }
   },
   "outputs": [
    {
     "data": {
      "text/plain": [
       "Unnamed: 0         int64\n",
       "id                 int64\n",
       "date              object\n",
       "price              int64\n",
       "bedrooms         float64\n",
       "bathrooms        float64\n",
       "sqft_living        int64\n",
       "sqft_lot           int64\n",
       "floors           float64\n",
       "waterfront         int64\n",
       "view               int64\n",
       "condition          int64\n",
       "grade              int64\n",
       "sqft_above         int64\n",
       "sqft_basement      int64\n",
       "yr_built           int64\n",
       "yr_renovated       int64\n",
       "zipcode            int64\n",
       "lat              float64\n",
       "long             float64\n",
       "sqft_living15      int64\n",
       "sqft_lot15         int64\n",
       "dtype: object"
      ]
     },
     "execution_count": 8,
     "metadata": {},
     "output_type": "execute_result"
    }
   ],
   "source": [
    "df.dtypes"
   ]
  },
  {
   "cell_type": "markdown",
   "metadata": {},
   "source": [
    "We use the method describe to obtain a statistical summary of the dataframe.\n"
   ]
  },
  {
   "cell_type": "code",
   "execution_count": 9,
   "metadata": {
    "jupyter": {
     "outputs_hidden": false
    }
   },
   "outputs": [
    {
     "data": {
      "text/html": [
       "<div>\n",
       "<style scoped>\n",
       "    .dataframe tbody tr th:only-of-type {\n",
       "        vertical-align: middle;\n",
       "    }\n",
       "\n",
       "    .dataframe tbody tr th {\n",
       "        vertical-align: top;\n",
       "    }\n",
       "\n",
       "    .dataframe thead th {\n",
       "        text-align: right;\n",
       "    }\n",
       "</style>\n",
       "<table border=\"1\" class=\"dataframe\">\n",
       "  <thead>\n",
       "    <tr style=\"text-align: right;\">\n",
       "      <th></th>\n",
       "      <th>Unnamed: 0</th>\n",
       "      <th>id</th>\n",
       "      <th>price</th>\n",
       "      <th>bedrooms</th>\n",
       "      <th>bathrooms</th>\n",
       "      <th>sqft_living</th>\n",
       "      <th>sqft_lot</th>\n",
       "      <th>floors</th>\n",
       "      <th>waterfront</th>\n",
       "      <th>view</th>\n",
       "      <th>...</th>\n",
       "      <th>grade</th>\n",
       "      <th>sqft_above</th>\n",
       "      <th>sqft_basement</th>\n",
       "      <th>yr_built</th>\n",
       "      <th>yr_renovated</th>\n",
       "      <th>zipcode</th>\n",
       "      <th>lat</th>\n",
       "      <th>long</th>\n",
       "      <th>sqft_living15</th>\n",
       "      <th>sqft_lot15</th>\n",
       "    </tr>\n",
       "  </thead>\n",
       "  <tbody>\n",
       "    <tr>\n",
       "      <th>count</th>\n",
       "      <td>10726.000000</td>\n",
       "      <td>1.072600e+04</td>\n",
       "      <td>1.072600e+04</td>\n",
       "      <td>10713.000000</td>\n",
       "      <td>10716.000000</td>\n",
       "      <td>10726.000000</td>\n",
       "      <td>1.072600e+04</td>\n",
       "      <td>10726.000000</td>\n",
       "      <td>10726.000000</td>\n",
       "      <td>10726.000000</td>\n",
       "      <td>...</td>\n",
       "      <td>10726.000000</td>\n",
       "      <td>10726.000000</td>\n",
       "      <td>10726.000000</td>\n",
       "      <td>10726.000000</td>\n",
       "      <td>10726.000000</td>\n",
       "      <td>10726.000000</td>\n",
       "      <td>10726.000000</td>\n",
       "      <td>10726.000000</td>\n",
       "      <td>10726.000000</td>\n",
       "      <td>10726.000000</td>\n",
       "    </tr>\n",
       "    <tr>\n",
       "      <th>mean</th>\n",
       "      <td>9067.206321</td>\n",
       "      <td>4.534260e+09</td>\n",
       "      <td>5.317606e+05</td>\n",
       "      <td>3.353589</td>\n",
       "      <td>2.058091</td>\n",
       "      <td>2043.304960</td>\n",
       "      <td>1.517039e+04</td>\n",
       "      <td>1.430356</td>\n",
       "      <td>0.006806</td>\n",
       "      <td>0.233172</td>\n",
       "      <td>...</td>\n",
       "      <td>7.595282</td>\n",
       "      <td>1743.457580</td>\n",
       "      <td>299.847380</td>\n",
       "      <td>1967.430170</td>\n",
       "      <td>89.314842</td>\n",
       "      <td>98077.648611</td>\n",
       "      <td>47.560503</td>\n",
       "      <td>-122.214366</td>\n",
       "      <td>1970.142271</td>\n",
       "      <td>12959.380291</td>\n",
       "    </tr>\n",
       "    <tr>\n",
       "      <th>std</th>\n",
       "      <td>4760.290092</td>\n",
       "      <td>2.863545e+09</td>\n",
       "      <td>3.605499e+05</td>\n",
       "      <td>0.905990</td>\n",
       "      <td>0.753609</td>\n",
       "      <td>897.952111</td>\n",
       "      <td>3.790778e+04</td>\n",
       "      <td>0.511497</td>\n",
       "      <td>0.082220</td>\n",
       "      <td>0.761292</td>\n",
       "      <td>...</td>\n",
       "      <td>1.170345</td>\n",
       "      <td>806.780248</td>\n",
       "      <td>444.121882</td>\n",
       "      <td>27.891116</td>\n",
       "      <td>412.680776</td>\n",
       "      <td>53.809347</td>\n",
       "      <td>0.139735</td>\n",
       "      <td>0.137903</td>\n",
       "      <td>673.545263</td>\n",
       "      <td>26354.434042</td>\n",
       "    </tr>\n",
       "    <tr>\n",
       "      <th>min</th>\n",
       "      <td>0.000000</td>\n",
       "      <td>1.200019e+06</td>\n",
       "      <td>7.500000e+04</td>\n",
       "      <td>1.000000</td>\n",
       "      <td>0.500000</td>\n",
       "      <td>290.000000</td>\n",
       "      <td>5.720000e+02</td>\n",
       "      <td>1.000000</td>\n",
       "      <td>0.000000</td>\n",
       "      <td>0.000000</td>\n",
       "      <td>...</td>\n",
       "      <td>1.000000</td>\n",
       "      <td>290.000000</td>\n",
       "      <td>0.000000</td>\n",
       "      <td>1900.000000</td>\n",
       "      <td>0.000000</td>\n",
       "      <td>98001.000000</td>\n",
       "      <td>47.155900</td>\n",
       "      <td>-122.515000</td>\n",
       "      <td>460.000000</td>\n",
       "      <td>660.000000</td>\n",
       "    </tr>\n",
       "    <tr>\n",
       "      <th>25%</th>\n",
       "      <td>6051.250000</td>\n",
       "      <td>2.113701e+09</td>\n",
       "      <td>3.150000e+05</td>\n",
       "      <td>3.000000</td>\n",
       "      <td>1.500000</td>\n",
       "      <td>1410.000000</td>\n",
       "      <td>5.400000e+03</td>\n",
       "      <td>1.000000</td>\n",
       "      <td>0.000000</td>\n",
       "      <td>0.000000</td>\n",
       "      <td>...</td>\n",
       "      <td>7.000000</td>\n",
       "      <td>1180.000000</td>\n",
       "      <td>0.000000</td>\n",
       "      <td>1950.000000</td>\n",
       "      <td>0.000000</td>\n",
       "      <td>98032.000000</td>\n",
       "      <td>47.465725</td>\n",
       "      <td>-122.325000</td>\n",
       "      <td>1480.000000</td>\n",
       "      <td>5400.000000</td>\n",
       "    </tr>\n",
       "    <tr>\n",
       "      <th>50%</th>\n",
       "      <td>8732.500000</td>\n",
       "      <td>3.903200e+09</td>\n",
       "      <td>4.499500e+05</td>\n",
       "      <td>3.000000</td>\n",
       "      <td>2.000000</td>\n",
       "      <td>1880.000000</td>\n",
       "      <td>7.834000e+03</td>\n",
       "      <td>1.000000</td>\n",
       "      <td>0.000000</td>\n",
       "      <td>0.000000</td>\n",
       "      <td>...</td>\n",
       "      <td>7.000000</td>\n",
       "      <td>1520.000000</td>\n",
       "      <td>0.000000</td>\n",
       "      <td>1969.000000</td>\n",
       "      <td>0.000000</td>\n",
       "      <td>98065.000000</td>\n",
       "      <td>47.574700</td>\n",
       "      <td>-122.229500</td>\n",
       "      <td>1840.000000</td>\n",
       "      <td>7800.000000</td>\n",
       "    </tr>\n",
       "    <tr>\n",
       "      <th>75%</th>\n",
       "      <td>11413.750000</td>\n",
       "      <td>7.233826e+09</td>\n",
       "      <td>6.380000e+05</td>\n",
       "      <td>4.000000</td>\n",
       "      <td>2.500000</td>\n",
       "      <td>2495.250000</td>\n",
       "      <td>1.094600e+04</td>\n",
       "      <td>2.000000</td>\n",
       "      <td>0.000000</td>\n",
       "      <td>0.000000</td>\n",
       "      <td>...</td>\n",
       "      <td>8.000000</td>\n",
       "      <td>2120.000000</td>\n",
       "      <td>600.000000</td>\n",
       "      <td>1990.000000</td>\n",
       "      <td>0.000000</td>\n",
       "      <td>98118.000000</td>\n",
       "      <td>47.679200</td>\n",
       "      <td>-122.125000</td>\n",
       "      <td>2330.000000</td>\n",
       "      <td>10201.500000</td>\n",
       "    </tr>\n",
       "    <tr>\n",
       "      <th>max</th>\n",
       "      <td>19454.000000</td>\n",
       "      <td>9.842301e+09</td>\n",
       "      <td>7.700000e+06</td>\n",
       "      <td>11.000000</td>\n",
       "      <td>8.000000</td>\n",
       "      <td>12050.000000</td>\n",
       "      <td>1.074218e+06</td>\n",
       "      <td>3.500000</td>\n",
       "      <td>1.000000</td>\n",
       "      <td>4.000000</td>\n",
       "      <td>...</td>\n",
       "      <td>13.000000</td>\n",
       "      <td>8860.000000</td>\n",
       "      <td>4820.000000</td>\n",
       "      <td>2015.000000</td>\n",
       "      <td>2015.000000</td>\n",
       "      <td>98199.000000</td>\n",
       "      <td>47.777500</td>\n",
       "      <td>-121.319000</td>\n",
       "      <td>6110.000000</td>\n",
       "      <td>871200.000000</td>\n",
       "    </tr>\n",
       "  </tbody>\n",
       "</table>\n",
       "<p>8 rows × 21 columns</p>\n",
       "</div>"
      ],
      "text/plain": [
       "         Unnamed: 0            id         price      bedrooms     bathrooms  \\\n",
       "count  10726.000000  1.072600e+04  1.072600e+04  10713.000000  10716.000000   \n",
       "mean    9067.206321  4.534260e+09  5.317606e+05      3.353589      2.058091   \n",
       "std     4760.290092  2.863545e+09  3.605499e+05      0.905990      0.753609   \n",
       "min        0.000000  1.200019e+06  7.500000e+04      1.000000      0.500000   \n",
       "25%     6051.250000  2.113701e+09  3.150000e+05      3.000000      1.500000   \n",
       "50%     8732.500000  3.903200e+09  4.499500e+05      3.000000      2.000000   \n",
       "75%    11413.750000  7.233826e+09  6.380000e+05      4.000000      2.500000   \n",
       "max    19454.000000  9.842301e+09  7.700000e+06     11.000000      8.000000   \n",
       "\n",
       "        sqft_living      sqft_lot        floors    waterfront          view  \\\n",
       "count  10726.000000  1.072600e+04  10726.000000  10726.000000  10726.000000   \n",
       "mean    2043.304960  1.517039e+04      1.430356      0.006806      0.233172   \n",
       "std      897.952111  3.790778e+04      0.511497      0.082220      0.761292   \n",
       "min      290.000000  5.720000e+02      1.000000      0.000000      0.000000   \n",
       "25%     1410.000000  5.400000e+03      1.000000      0.000000      0.000000   \n",
       "50%     1880.000000  7.834000e+03      1.000000      0.000000      0.000000   \n",
       "75%     2495.250000  1.094600e+04      2.000000      0.000000      0.000000   \n",
       "max    12050.000000  1.074218e+06      3.500000      1.000000      4.000000   \n",
       "\n",
       "       ...         grade    sqft_above  sqft_basement      yr_built  \\\n",
       "count  ...  10726.000000  10726.000000   10726.000000  10726.000000   \n",
       "mean   ...      7.595282   1743.457580     299.847380   1967.430170   \n",
       "std    ...      1.170345    806.780248     444.121882     27.891116   \n",
       "min    ...      1.000000    290.000000       0.000000   1900.000000   \n",
       "25%    ...      7.000000   1180.000000       0.000000   1950.000000   \n",
       "50%    ...      7.000000   1520.000000       0.000000   1969.000000   \n",
       "75%    ...      8.000000   2120.000000     600.000000   1990.000000   \n",
       "max    ...     13.000000   8860.000000    4820.000000   2015.000000   \n",
       "\n",
       "       yr_renovated       zipcode           lat          long  sqft_living15  \\\n",
       "count  10726.000000  10726.000000  10726.000000  10726.000000   10726.000000   \n",
       "mean      89.314842  98077.648611     47.560503   -122.214366    1970.142271   \n",
       "std      412.680776     53.809347      0.139735      0.137903     673.545263   \n",
       "min        0.000000  98001.000000     47.155900   -122.515000     460.000000   \n",
       "25%        0.000000  98032.000000     47.465725   -122.325000    1480.000000   \n",
       "50%        0.000000  98065.000000     47.574700   -122.229500    1840.000000   \n",
       "75%        0.000000  98118.000000     47.679200   -122.125000    2330.000000   \n",
       "max     2015.000000  98199.000000     47.777500   -121.319000    6110.000000   \n",
       "\n",
       "          sqft_lot15  \n",
       "count   10726.000000  \n",
       "mean    12959.380291  \n",
       "std     26354.434042  \n",
       "min       660.000000  \n",
       "25%      5400.000000  \n",
       "50%      7800.000000  \n",
       "75%     10201.500000  \n",
       "max    871200.000000  \n",
       "\n",
       "[8 rows x 21 columns]"
      ]
     },
     "execution_count": 9,
     "metadata": {},
     "output_type": "execute_result"
    }
   ],
   "source": [
    "df.describe() #date column can be removed directly"
   ]
  },
  {
   "cell_type": "markdown",
   "metadata": {},
   "source": [
    "# Module 2: Data Wrangling\n"
   ]
  },
  {
   "cell_type": "markdown",
   "metadata": {},
   "source": [
    "\n",
    "\n",
    "Drop the columns <code>\"id\"</code>  and <code>\"Unnamed: 0\"</code> from axis 1 using the method <code>drop()</code>, then use the method <code>describe()</code> to obtain a statistical summary of the data. \n"
   ]
  },
  {
   "cell_type": "code",
   "execution_count": 10,
   "metadata": {
    "jupyter": {
     "outputs_hidden": false
    }
   },
   "outputs": [
    {
     "data": {
      "text/html": [
       "<div>\n",
       "<style scoped>\n",
       "    .dataframe tbody tr th:only-of-type {\n",
       "        vertical-align: middle;\n",
       "    }\n",
       "\n",
       "    .dataframe tbody tr th {\n",
       "        vertical-align: top;\n",
       "    }\n",
       "\n",
       "    .dataframe thead th {\n",
       "        text-align: right;\n",
       "    }\n",
       "</style>\n",
       "<table border=\"1\" class=\"dataframe\">\n",
       "  <thead>\n",
       "    <tr style=\"text-align: right;\">\n",
       "      <th></th>\n",
       "      <th>price</th>\n",
       "      <th>bedrooms</th>\n",
       "      <th>bathrooms</th>\n",
       "      <th>sqft_living</th>\n",
       "      <th>sqft_lot</th>\n",
       "      <th>floors</th>\n",
       "      <th>waterfront</th>\n",
       "      <th>view</th>\n",
       "      <th>condition</th>\n",
       "      <th>grade</th>\n",
       "      <th>sqft_above</th>\n",
       "      <th>sqft_basement</th>\n",
       "      <th>yr_built</th>\n",
       "      <th>yr_renovated</th>\n",
       "      <th>zipcode</th>\n",
       "      <th>lat</th>\n",
       "      <th>long</th>\n",
       "      <th>sqft_living15</th>\n",
       "      <th>sqft_lot15</th>\n",
       "    </tr>\n",
       "  </thead>\n",
       "  <tbody>\n",
       "    <tr>\n",
       "      <th>count</th>\n",
       "      <td>1.072600e+04</td>\n",
       "      <td>10713.000000</td>\n",
       "      <td>10716.000000</td>\n",
       "      <td>10726.000000</td>\n",
       "      <td>1.072600e+04</td>\n",
       "      <td>10726.000000</td>\n",
       "      <td>10726.000000</td>\n",
       "      <td>10726.000000</td>\n",
       "      <td>10726.000000</td>\n",
       "      <td>10726.000000</td>\n",
       "      <td>10726.000000</td>\n",
       "      <td>10726.000000</td>\n",
       "      <td>10726.000000</td>\n",
       "      <td>10726.000000</td>\n",
       "      <td>10726.000000</td>\n",
       "      <td>10726.000000</td>\n",
       "      <td>10726.000000</td>\n",
       "      <td>10726.000000</td>\n",
       "      <td>10726.000000</td>\n",
       "    </tr>\n",
       "    <tr>\n",
       "      <th>mean</th>\n",
       "      <td>5.317606e+05</td>\n",
       "      <td>3.353589</td>\n",
       "      <td>2.058091</td>\n",
       "      <td>2043.304960</td>\n",
       "      <td>1.517039e+04</td>\n",
       "      <td>1.430356</td>\n",
       "      <td>0.006806</td>\n",
       "      <td>0.233172</td>\n",
       "      <td>3.453384</td>\n",
       "      <td>7.595282</td>\n",
       "      <td>1743.457580</td>\n",
       "      <td>299.847380</td>\n",
       "      <td>1967.430170</td>\n",
       "      <td>89.314842</td>\n",
       "      <td>98077.648611</td>\n",
       "      <td>47.560503</td>\n",
       "      <td>-122.214366</td>\n",
       "      <td>1970.142271</td>\n",
       "      <td>12959.380291</td>\n",
       "    </tr>\n",
       "    <tr>\n",
       "      <th>std</th>\n",
       "      <td>3.605499e+05</td>\n",
       "      <td>0.905990</td>\n",
       "      <td>0.753609</td>\n",
       "      <td>897.952111</td>\n",
       "      <td>3.790778e+04</td>\n",
       "      <td>0.511497</td>\n",
       "      <td>0.082220</td>\n",
       "      <td>0.761292</td>\n",
       "      <td>0.668310</td>\n",
       "      <td>1.170345</td>\n",
       "      <td>806.780248</td>\n",
       "      <td>444.121882</td>\n",
       "      <td>27.891116</td>\n",
       "      <td>412.680776</td>\n",
       "      <td>53.809347</td>\n",
       "      <td>0.139735</td>\n",
       "      <td>0.137903</td>\n",
       "      <td>673.545263</td>\n",
       "      <td>26354.434042</td>\n",
       "    </tr>\n",
       "    <tr>\n",
       "      <th>min</th>\n",
       "      <td>7.500000e+04</td>\n",
       "      <td>1.000000</td>\n",
       "      <td>0.500000</td>\n",
       "      <td>290.000000</td>\n",
       "      <td>5.720000e+02</td>\n",
       "      <td>1.000000</td>\n",
       "      <td>0.000000</td>\n",
       "      <td>0.000000</td>\n",
       "      <td>1.000000</td>\n",
       "      <td>1.000000</td>\n",
       "      <td>290.000000</td>\n",
       "      <td>0.000000</td>\n",
       "      <td>1900.000000</td>\n",
       "      <td>0.000000</td>\n",
       "      <td>98001.000000</td>\n",
       "      <td>47.155900</td>\n",
       "      <td>-122.515000</td>\n",
       "      <td>460.000000</td>\n",
       "      <td>660.000000</td>\n",
       "    </tr>\n",
       "    <tr>\n",
       "      <th>25%</th>\n",
       "      <td>3.150000e+05</td>\n",
       "      <td>3.000000</td>\n",
       "      <td>1.500000</td>\n",
       "      <td>1410.000000</td>\n",
       "      <td>5.400000e+03</td>\n",
       "      <td>1.000000</td>\n",
       "      <td>0.000000</td>\n",
       "      <td>0.000000</td>\n",
       "      <td>3.000000</td>\n",
       "      <td>7.000000</td>\n",
       "      <td>1180.000000</td>\n",
       "      <td>0.000000</td>\n",
       "      <td>1950.000000</td>\n",
       "      <td>0.000000</td>\n",
       "      <td>98032.000000</td>\n",
       "      <td>47.465725</td>\n",
       "      <td>-122.325000</td>\n",
       "      <td>1480.000000</td>\n",
       "      <td>5400.000000</td>\n",
       "    </tr>\n",
       "    <tr>\n",
       "      <th>50%</th>\n",
       "      <td>4.499500e+05</td>\n",
       "      <td>3.000000</td>\n",
       "      <td>2.000000</td>\n",
       "      <td>1880.000000</td>\n",
       "      <td>7.834000e+03</td>\n",
       "      <td>1.000000</td>\n",
       "      <td>0.000000</td>\n",
       "      <td>0.000000</td>\n",
       "      <td>3.000000</td>\n",
       "      <td>7.000000</td>\n",
       "      <td>1520.000000</td>\n",
       "      <td>0.000000</td>\n",
       "      <td>1969.000000</td>\n",
       "      <td>0.000000</td>\n",
       "      <td>98065.000000</td>\n",
       "      <td>47.574700</td>\n",
       "      <td>-122.229500</td>\n",
       "      <td>1840.000000</td>\n",
       "      <td>7800.000000</td>\n",
       "    </tr>\n",
       "    <tr>\n",
       "      <th>75%</th>\n",
       "      <td>6.380000e+05</td>\n",
       "      <td>4.000000</td>\n",
       "      <td>2.500000</td>\n",
       "      <td>2495.250000</td>\n",
       "      <td>1.094600e+04</td>\n",
       "      <td>2.000000</td>\n",
       "      <td>0.000000</td>\n",
       "      <td>0.000000</td>\n",
       "      <td>4.000000</td>\n",
       "      <td>8.000000</td>\n",
       "      <td>2120.000000</td>\n",
       "      <td>600.000000</td>\n",
       "      <td>1990.000000</td>\n",
       "      <td>0.000000</td>\n",
       "      <td>98118.000000</td>\n",
       "      <td>47.679200</td>\n",
       "      <td>-122.125000</td>\n",
       "      <td>2330.000000</td>\n",
       "      <td>10201.500000</td>\n",
       "    </tr>\n",
       "    <tr>\n",
       "      <th>max</th>\n",
       "      <td>7.700000e+06</td>\n",
       "      <td>11.000000</td>\n",
       "      <td>8.000000</td>\n",
       "      <td>12050.000000</td>\n",
       "      <td>1.074218e+06</td>\n",
       "      <td>3.500000</td>\n",
       "      <td>1.000000</td>\n",
       "      <td>4.000000</td>\n",
       "      <td>5.000000</td>\n",
       "      <td>13.000000</td>\n",
       "      <td>8860.000000</td>\n",
       "      <td>4820.000000</td>\n",
       "      <td>2015.000000</td>\n",
       "      <td>2015.000000</td>\n",
       "      <td>98199.000000</td>\n",
       "      <td>47.777500</td>\n",
       "      <td>-121.319000</td>\n",
       "      <td>6110.000000</td>\n",
       "      <td>871200.000000</td>\n",
       "    </tr>\n",
       "  </tbody>\n",
       "</table>\n",
       "</div>"
      ],
      "text/plain": [
       "              price      bedrooms     bathrooms   sqft_living      sqft_lot  \\\n",
       "count  1.072600e+04  10713.000000  10716.000000  10726.000000  1.072600e+04   \n",
       "mean   5.317606e+05      3.353589      2.058091   2043.304960  1.517039e+04   \n",
       "std    3.605499e+05      0.905990      0.753609    897.952111  3.790778e+04   \n",
       "min    7.500000e+04      1.000000      0.500000    290.000000  5.720000e+02   \n",
       "25%    3.150000e+05      3.000000      1.500000   1410.000000  5.400000e+03   \n",
       "50%    4.499500e+05      3.000000      2.000000   1880.000000  7.834000e+03   \n",
       "75%    6.380000e+05      4.000000      2.500000   2495.250000  1.094600e+04   \n",
       "max    7.700000e+06     11.000000      8.000000  12050.000000  1.074218e+06   \n",
       "\n",
       "             floors    waterfront          view     condition         grade  \\\n",
       "count  10726.000000  10726.000000  10726.000000  10726.000000  10726.000000   \n",
       "mean       1.430356      0.006806      0.233172      3.453384      7.595282   \n",
       "std        0.511497      0.082220      0.761292      0.668310      1.170345   \n",
       "min        1.000000      0.000000      0.000000      1.000000      1.000000   \n",
       "25%        1.000000      0.000000      0.000000      3.000000      7.000000   \n",
       "50%        1.000000      0.000000      0.000000      3.000000      7.000000   \n",
       "75%        2.000000      0.000000      0.000000      4.000000      8.000000   \n",
       "max        3.500000      1.000000      4.000000      5.000000     13.000000   \n",
       "\n",
       "         sqft_above  sqft_basement      yr_built  yr_renovated       zipcode  \\\n",
       "count  10726.000000   10726.000000  10726.000000  10726.000000  10726.000000   \n",
       "mean    1743.457580     299.847380   1967.430170     89.314842  98077.648611   \n",
       "std      806.780248     444.121882     27.891116    412.680776     53.809347   \n",
       "min      290.000000       0.000000   1900.000000      0.000000  98001.000000   \n",
       "25%     1180.000000       0.000000   1950.000000      0.000000  98032.000000   \n",
       "50%     1520.000000       0.000000   1969.000000      0.000000  98065.000000   \n",
       "75%     2120.000000     600.000000   1990.000000      0.000000  98118.000000   \n",
       "max     8860.000000    4820.000000   2015.000000   2015.000000  98199.000000   \n",
       "\n",
       "                lat          long  sqft_living15     sqft_lot15  \n",
       "count  10726.000000  10726.000000   10726.000000   10726.000000  \n",
       "mean      47.560503   -122.214366    1970.142271   12959.380291  \n",
       "std        0.139735      0.137903     673.545263   26354.434042  \n",
       "min       47.155900   -122.515000     460.000000     660.000000  \n",
       "25%       47.465725   -122.325000    1480.000000    5400.000000  \n",
       "50%       47.574700   -122.229500    1840.000000    7800.000000  \n",
       "75%       47.679200   -122.125000    2330.000000   10201.500000  \n",
       "max       47.777500   -121.319000    6110.000000  871200.000000  "
      ]
     },
     "execution_count": 10,
     "metadata": {},
     "output_type": "execute_result"
    }
   ],
   "source": [
    "df.drop(['id','Unnamed: 0'],axis=1,inplace=True)\n",
    "df.describe()"
   ]
  },
  {
   "cell_type": "markdown",
   "metadata": {},
   "source": [
    "We can see we have missing values for the columns <code> bedrooms</code>  and <code> bathrooms </code>\n"
   ]
  },
  {
   "cell_type": "code",
   "execution_count": 11,
   "metadata": {
    "jupyter": {
     "outputs_hidden": false
    }
   },
   "outputs": [
    {
     "name": "stdout",
     "output_type": "stream",
     "text": [
      "number of NaN values for the column bedrooms : 13\n",
      "number of NaN values for the column bathrooms : 10\n"
     ]
    }
   ],
   "source": [
    "print(\"number of NaN values for the column bedrooms :\", df['bedrooms'].isnull().sum())\n",
    "print(\"number of NaN values for the column bathrooms :\", df['bathrooms'].isnull().sum())\n"
   ]
  },
  {
   "cell_type": "code",
   "execution_count": 12,
   "metadata": {},
   "outputs": [
    {
     "data": {
      "text/plain": [
       "(10726, 20)"
      ]
     },
     "execution_count": 12,
     "metadata": {},
     "output_type": "execute_result"
    }
   ],
   "source": [
    "df.shape"
   ]
  },
  {
   "cell_type": "markdown",
   "metadata": {},
   "source": [
    "We can replace the missing values of the column <code>'bedrooms'</code> with the mean of the column  <code>'bedrooms' </code> using the method <code>replace()</code>. Don't forget to set the <code>inplace</code> parameter to <code>True</code>\n"
   ]
  },
  {
   "cell_type": "code",
   "execution_count": 13,
   "metadata": {},
   "outputs": [],
   "source": [
    "mean=df['bedrooms'].mean()\n",
    "df['bedrooms'].replace(np.nan,mean, inplace=True)"
   ]
  },
  {
   "cell_type": "markdown",
   "metadata": {},
   "source": [
    "We also replace the missing values of the column <code>'bathrooms'</code> with the mean of the column  <code>'bathrooms' </code> using the method <code>replace()</code>. Don't forget to set the <code> inplace </code>  parameter top <code> True </code>\n"
   ]
  },
  {
   "cell_type": "code",
   "execution_count": 14,
   "metadata": {},
   "outputs": [],
   "source": [
    "mean=df['bathrooms'].mean()\n",
    "df['bathrooms'].replace(np.nan,mean, inplace=True)"
   ]
  },
  {
   "cell_type": "code",
   "execution_count": 15,
   "metadata": {
    "jupyter": {
     "outputs_hidden": false
    }
   },
   "outputs": [
    {
     "name": "stdout",
     "output_type": "stream",
     "text": [
      "number of NaN values for the column bedrooms : 0\n",
      "number of NaN values for the column bathrooms : 0\n"
     ]
    }
   ],
   "source": [
    "print(\"number of NaN values for the column bedrooms :\", df['bedrooms'].isnull().sum())\n",
    "print(\"number of NaN values for the column bathrooms :\", df['bathrooms'].isnull().sum())"
   ]
  },
  {
   "cell_type": "code",
   "execution_count": 50,
   "metadata": {
    "scrolled": true
   },
   "outputs": [
    {
     "data": {
      "text/plain": [
       "Int64Index([], dtype='int64')"
      ]
     },
     "execution_count": 50,
     "metadata": {},
     "output_type": "execute_result"
    }
   ],
   "source": [
    "df.loc[df[\"price\"]<=0].index"
   ]
  },
  {
   "cell_type": "code",
   "execution_count": 16,
   "metadata": {},
   "outputs": [
    {
     "data": {
      "text/plain": [
       "zipcode         -0.042837\n",
       "long             0.019508\n",
       "yr_built         0.035259\n",
       "condition        0.046191\n",
       "sqft_lot15       0.095143\n",
       "sqft_lot         0.114042\n",
       "yr_renovated     0.135524\n",
       "waterfront       0.245885\n",
       "floors           0.286252\n",
       "lat              0.311305\n",
       "bedrooms         0.311724\n",
       "sqft_basement    0.319051\n",
       "view             0.384987\n",
       "bathrooms        0.528622\n",
       "sqft_living15    0.597820\n",
       "sqft_above       0.606955\n",
       "grade            0.664251\n",
       "sqft_living      0.703130\n",
       "price            1.000000\n",
       "Name: price, dtype: float64"
      ]
     },
     "execution_count": 16,
     "metadata": {},
     "output_type": "execute_result"
    }
   ],
   "source": [
    "df.corr()['price'].sort_values()"
   ]
  },
  {
   "cell_type": "code",
   "execution_count": 17,
   "metadata": {},
   "outputs": [
    {
     "data": {
      "text/html": [
       "<div>\n",
       "<style scoped>\n",
       "    .dataframe tbody tr th:only-of-type {\n",
       "        vertical-align: middle;\n",
       "    }\n",
       "\n",
       "    .dataframe tbody tr th {\n",
       "        vertical-align: top;\n",
       "    }\n",
       "\n",
       "    .dataframe thead th {\n",
       "        text-align: right;\n",
       "    }\n",
       "</style>\n",
       "<table border=\"1\" class=\"dataframe\">\n",
       "  <thead>\n",
       "    <tr style=\"text-align: right;\">\n",
       "      <th></th>\n",
       "      <th>price</th>\n",
       "      <th>bedrooms</th>\n",
       "      <th>bathrooms</th>\n",
       "      <th>sqft_living</th>\n",
       "      <th>sqft_lot</th>\n",
       "      <th>floors</th>\n",
       "      <th>waterfront</th>\n",
       "      <th>view</th>\n",
       "      <th>condition</th>\n",
       "      <th>grade</th>\n",
       "      <th>sqft_above</th>\n",
       "      <th>sqft_basement</th>\n",
       "      <th>yr_built</th>\n",
       "      <th>yr_renovated</th>\n",
       "      <th>zipcode</th>\n",
       "      <th>lat</th>\n",
       "      <th>long</th>\n",
       "      <th>sqft_living15</th>\n",
       "      <th>sqft_lot15</th>\n",
       "    </tr>\n",
       "  </thead>\n",
       "  <tbody>\n",
       "    <tr>\n",
       "      <th>price</th>\n",
       "      <td>1.000000</td>\n",
       "      <td>0.311724</td>\n",
       "      <td>0.528622</td>\n",
       "      <td>0.703130</td>\n",
       "      <td>0.114042</td>\n",
       "      <td>0.286252</td>\n",
       "      <td>0.245885</td>\n",
       "      <td>0.384987</td>\n",
       "      <td>0.046191</td>\n",
       "      <td>0.664251</td>\n",
       "      <td>0.606955</td>\n",
       "      <td>0.319051</td>\n",
       "      <td>0.035259</td>\n",
       "      <td>0.135524</td>\n",
       "      <td>-0.042837</td>\n",
       "      <td>0.311305</td>\n",
       "      <td>0.019508</td>\n",
       "      <td>0.597820</td>\n",
       "      <td>0.095143</td>\n",
       "    </tr>\n",
       "    <tr>\n",
       "      <th>bedrooms</th>\n",
       "      <td>0.311724</td>\n",
       "      <td>1.000000</td>\n",
       "      <td>0.528969</td>\n",
       "      <td>0.579085</td>\n",
       "      <td>0.057510</td>\n",
       "      <td>0.208524</td>\n",
       "      <td>-0.006027</td>\n",
       "      <td>0.081443</td>\n",
       "      <td>0.043574</td>\n",
       "      <td>0.358108</td>\n",
       "      <td>0.464567</td>\n",
       "      <td>0.326909</td>\n",
       "      <td>0.164654</td>\n",
       "      <td>0.030916</td>\n",
       "      <td>-0.141547</td>\n",
       "      <td>0.003162</td>\n",
       "      <td>0.123617</td>\n",
       "      <td>0.380155</td>\n",
       "      <td>0.046791</td>\n",
       "    </tr>\n",
       "    <tr>\n",
       "      <th>bathrooms</th>\n",
       "      <td>0.528622</td>\n",
       "      <td>0.528969</td>\n",
       "      <td>1.000000</td>\n",
       "      <td>0.761770</td>\n",
       "      <td>0.130551</td>\n",
       "      <td>0.505155</td>\n",
       "      <td>0.064374</td>\n",
       "      <td>0.191813</td>\n",
       "      <td>-0.089238</td>\n",
       "      <td>0.655820</td>\n",
       "      <td>0.686502</td>\n",
       "      <td>0.293109</td>\n",
       "      <td>0.479297</td>\n",
       "      <td>0.070800</td>\n",
       "      <td>-0.208233</td>\n",
       "      <td>0.030685</td>\n",
       "      <td>0.240162</td>\n",
       "      <td>0.577620</td>\n",
       "      <td>0.111051</td>\n",
       "    </tr>\n",
       "    <tr>\n",
       "      <th>sqft_living</th>\n",
       "      <td>0.703130</td>\n",
       "      <td>0.579085</td>\n",
       "      <td>0.761770</td>\n",
       "      <td>1.000000</td>\n",
       "      <td>0.220729</td>\n",
       "      <td>0.397036</td>\n",
       "      <td>0.096208</td>\n",
       "      <td>0.277507</td>\n",
       "      <td>-0.040341</td>\n",
       "      <td>0.771181</td>\n",
       "      <td>0.869603</td>\n",
       "      <td>0.442161</td>\n",
       "      <td>0.325604</td>\n",
       "      <td>0.066699</td>\n",
       "      <td>-0.185686</td>\n",
       "      <td>0.060958</td>\n",
       "      <td>0.231624</td>\n",
       "      <td>0.757203</td>\n",
       "      <td>0.210560</td>\n",
       "    </tr>\n",
       "    <tr>\n",
       "      <th>sqft_lot</th>\n",
       "      <td>0.114042</td>\n",
       "      <td>0.057510</td>\n",
       "      <td>0.130551</td>\n",
       "      <td>0.220729</td>\n",
       "      <td>1.000000</td>\n",
       "      <td>0.033810</td>\n",
       "      <td>0.017006</td>\n",
       "      <td>0.069142</td>\n",
       "      <td>-0.023487</td>\n",
       "      <td>0.165825</td>\n",
       "      <td>0.231594</td>\n",
       "      <td>0.025574</td>\n",
       "      <td>0.111912</td>\n",
       "      <td>-0.010272</td>\n",
       "      <td>-0.131135</td>\n",
       "      <td>-0.074532</td>\n",
       "      <td>0.243125</td>\n",
       "      <td>0.186301</td>\n",
       "      <td>0.749693</td>\n",
       "    </tr>\n",
       "    <tr>\n",
       "      <th>floors</th>\n",
       "      <td>0.286252</td>\n",
       "      <td>0.208524</td>\n",
       "      <td>0.505155</td>\n",
       "      <td>0.397036</td>\n",
       "      <td>0.033810</td>\n",
       "      <td>1.000000</td>\n",
       "      <td>0.023465</td>\n",
       "      <td>0.053918</td>\n",
       "      <td>-0.220206</td>\n",
       "      <td>0.464960</td>\n",
       "      <td>0.571596</td>\n",
       "      <td>-0.235596</td>\n",
       "      <td>0.417716</td>\n",
       "      <td>0.039263</td>\n",
       "      <td>-0.081424</td>\n",
       "      <td>0.047421</td>\n",
       "      <td>0.167854</td>\n",
       "      <td>0.327709</td>\n",
       "      <td>0.026463</td>\n",
       "    </tr>\n",
       "    <tr>\n",
       "      <th>waterfront</th>\n",
       "      <td>0.245885</td>\n",
       "      <td>-0.006027</td>\n",
       "      <td>0.064374</td>\n",
       "      <td>0.096208</td>\n",
       "      <td>0.017006</td>\n",
       "      <td>0.023465</td>\n",
       "      <td>1.000000</td>\n",
       "      <td>0.382797</td>\n",
       "      <td>0.015107</td>\n",
       "      <td>0.081921</td>\n",
       "      <td>0.065243</td>\n",
       "      <td>0.076000</td>\n",
       "      <td>-0.026160</td>\n",
       "      <td>0.091353</td>\n",
       "      <td>0.023091</td>\n",
       "      <td>-0.017895</td>\n",
       "      <td>-0.035626</td>\n",
       "      <td>0.087068</td>\n",
       "      <td>0.038232</td>\n",
       "    </tr>\n",
       "    <tr>\n",
       "      <th>view</th>\n",
       "      <td>0.384987</td>\n",
       "      <td>0.081443</td>\n",
       "      <td>0.191813</td>\n",
       "      <td>0.277507</td>\n",
       "      <td>0.069142</td>\n",
       "      <td>0.053918</td>\n",
       "      <td>0.382797</td>\n",
       "      <td>1.000000</td>\n",
       "      <td>0.030254</td>\n",
       "      <td>0.256517</td>\n",
       "      <td>0.161258</td>\n",
       "      <td>0.268142</td>\n",
       "      <td>-0.034211</td>\n",
       "      <td>0.091751</td>\n",
       "      <td>0.092360</td>\n",
       "      <td>0.003567</td>\n",
       "      <td>-0.091401</td>\n",
       "      <td>0.287710</td>\n",
       "      <td>0.056924</td>\n",
       "    </tr>\n",
       "    <tr>\n",
       "      <th>condition</th>\n",
       "      <td>0.046191</td>\n",
       "      <td>0.043574</td>\n",
       "      <td>-0.089238</td>\n",
       "      <td>-0.040341</td>\n",
       "      <td>-0.023487</td>\n",
       "      <td>-0.220206</td>\n",
       "      <td>0.015107</td>\n",
       "      <td>0.030254</td>\n",
       "      <td>1.000000</td>\n",
       "      <td>-0.114663</td>\n",
       "      <td>-0.138191</td>\n",
       "      <td>0.169470</td>\n",
       "      <td>-0.314451</td>\n",
       "      <td>-0.075111</td>\n",
       "      <td>-0.002181</td>\n",
       "      <td>-0.034192</td>\n",
       "      <td>-0.113626</td>\n",
       "      <td>-0.089238</td>\n",
       "      <td>-0.022873</td>\n",
       "    </tr>\n",
       "    <tr>\n",
       "      <th>grade</th>\n",
       "      <td>0.664251</td>\n",
       "      <td>0.358108</td>\n",
       "      <td>0.655820</td>\n",
       "      <td>0.771181</td>\n",
       "      <td>0.165825</td>\n",
       "      <td>0.464960</td>\n",
       "      <td>0.081921</td>\n",
       "      <td>0.256517</td>\n",
       "      <td>-0.114663</td>\n",
       "      <td>1.000000</td>\n",
       "      <td>0.765870</td>\n",
       "      <td>0.167960</td>\n",
       "      <td>0.434426</td>\n",
       "      <td>0.023276</td>\n",
       "      <td>-0.189430</td>\n",
       "      <td>0.114085</td>\n",
       "      <td>0.217225</td>\n",
       "      <td>0.736324</td>\n",
       "      <td>0.156817</td>\n",
       "    </tr>\n",
       "    <tr>\n",
       "      <th>sqft_above</th>\n",
       "      <td>0.606955</td>\n",
       "      <td>0.464567</td>\n",
       "      <td>0.686502</td>\n",
       "      <td>0.869603</td>\n",
       "      <td>0.231594</td>\n",
       "      <td>0.571596</td>\n",
       "      <td>0.065243</td>\n",
       "      <td>0.161258</td>\n",
       "      <td>-0.138191</td>\n",
       "      <td>0.765870</td>\n",
       "      <td>1.000000</td>\n",
       "      <td>-0.058358</td>\n",
       "      <td>0.426022</td>\n",
       "      <td>0.034420</td>\n",
       "      <td>-0.246770</td>\n",
       "      <td>0.012540</td>\n",
       "      <td>0.342264</td>\n",
       "      <td>0.732411</td>\n",
       "      <td>0.224224</td>\n",
       "    </tr>\n",
       "    <tr>\n",
       "      <th>sqft_basement</th>\n",
       "      <td>0.319051</td>\n",
       "      <td>0.326909</td>\n",
       "      <td>0.293109</td>\n",
       "      <td>0.442161</td>\n",
       "      <td>0.025574</td>\n",
       "      <td>-0.235596</td>\n",
       "      <td>0.076000</td>\n",
       "      <td>0.268142</td>\n",
       "      <td>0.169470</td>\n",
       "      <td>0.167960</td>\n",
       "      <td>-0.058358</td>\n",
       "      <td>1.000000</td>\n",
       "      <td>-0.115575</td>\n",
       "      <td>0.072331</td>\n",
       "      <td>0.072846</td>\n",
       "      <td>0.100468</td>\n",
       "      <td>-0.153436</td>\n",
       "      <td>0.200480</td>\n",
       "      <td>0.018404</td>\n",
       "    </tr>\n",
       "    <tr>\n",
       "      <th>yr_built</th>\n",
       "      <td>0.035259</td>\n",
       "      <td>0.164654</td>\n",
       "      <td>0.479297</td>\n",
       "      <td>0.325604</td>\n",
       "      <td>0.111912</td>\n",
       "      <td>0.417716</td>\n",
       "      <td>-0.026160</td>\n",
       "      <td>-0.034211</td>\n",
       "      <td>-0.314451</td>\n",
       "      <td>0.434426</td>\n",
       "      <td>0.426022</td>\n",
       "      <td>-0.115575</td>\n",
       "      <td>1.000000</td>\n",
       "      <td>-0.213818</td>\n",
       "      <td>-0.389020</td>\n",
       "      <td>-0.159834</td>\n",
       "      <td>0.473065</td>\n",
       "      <td>0.349513</td>\n",
       "      <td>0.125050</td>\n",
       "    </tr>\n",
       "    <tr>\n",
       "      <th>yr_renovated</th>\n",
       "      <td>0.135524</td>\n",
       "      <td>0.030916</td>\n",
       "      <td>0.070800</td>\n",
       "      <td>0.066699</td>\n",
       "      <td>-0.010272</td>\n",
       "      <td>0.039263</td>\n",
       "      <td>0.091353</td>\n",
       "      <td>0.091751</td>\n",
       "      <td>-0.075111</td>\n",
       "      <td>0.023276</td>\n",
       "      <td>0.034420</td>\n",
       "      <td>0.072331</td>\n",
       "      <td>-0.213818</td>\n",
       "      <td>1.000000</td>\n",
       "      <td>0.075034</td>\n",
       "      <td>0.034881</td>\n",
       "      <td>-0.077988</td>\n",
       "      <td>0.004500</td>\n",
       "      <td>-0.008107</td>\n",
       "    </tr>\n",
       "    <tr>\n",
       "      <th>zipcode</th>\n",
       "      <td>-0.042837</td>\n",
       "      <td>-0.141547</td>\n",
       "      <td>-0.208233</td>\n",
       "      <td>-0.185686</td>\n",
       "      <td>-0.131135</td>\n",
       "      <td>-0.081424</td>\n",
       "      <td>0.023091</td>\n",
       "      <td>0.092360</td>\n",
       "      <td>-0.002181</td>\n",
       "      <td>-0.189430</td>\n",
       "      <td>-0.246770</td>\n",
       "      <td>0.072846</td>\n",
       "      <td>-0.389020</td>\n",
       "      <td>0.075034</td>\n",
       "      <td>1.000000</td>\n",
       "      <td>0.261205</td>\n",
       "      <td>-0.561160</td>\n",
       "      <td>-0.259715</td>\n",
       "      <td>-0.143760</td>\n",
       "    </tr>\n",
       "    <tr>\n",
       "      <th>lat</th>\n",
       "      <td>0.311305</td>\n",
       "      <td>0.003162</td>\n",
       "      <td>0.030685</td>\n",
       "      <td>0.060958</td>\n",
       "      <td>-0.074532</td>\n",
       "      <td>0.047421</td>\n",
       "      <td>-0.017895</td>\n",
       "      <td>0.003567</td>\n",
       "      <td>-0.034192</td>\n",
       "      <td>0.114085</td>\n",
       "      <td>0.012540</td>\n",
       "      <td>0.100468</td>\n",
       "      <td>-0.159834</td>\n",
       "      <td>0.034881</td>\n",
       "      <td>0.261205</td>\n",
       "      <td>1.000000</td>\n",
       "      <td>-0.123390</td>\n",
       "      <td>0.064375</td>\n",
       "      <td>-0.073607</td>\n",
       "    </tr>\n",
       "    <tr>\n",
       "      <th>long</th>\n",
       "      <td>0.019508</td>\n",
       "      <td>0.123617</td>\n",
       "      <td>0.240162</td>\n",
       "      <td>0.231624</td>\n",
       "      <td>0.243125</td>\n",
       "      <td>0.167854</td>\n",
       "      <td>-0.035626</td>\n",
       "      <td>-0.091401</td>\n",
       "      <td>-0.113626</td>\n",
       "      <td>0.217225</td>\n",
       "      <td>0.342264</td>\n",
       "      <td>-0.153436</td>\n",
       "      <td>0.473065</td>\n",
       "      <td>-0.077988</td>\n",
       "      <td>-0.561160</td>\n",
       "      <td>-0.123390</td>\n",
       "      <td>1.000000</td>\n",
       "      <td>0.317605</td>\n",
       "      <td>0.260001</td>\n",
       "    </tr>\n",
       "    <tr>\n",
       "      <th>sqft_living15</th>\n",
       "      <td>0.597820</td>\n",
       "      <td>0.380155</td>\n",
       "      <td>0.577620</td>\n",
       "      <td>0.757203</td>\n",
       "      <td>0.186301</td>\n",
       "      <td>0.327709</td>\n",
       "      <td>0.087068</td>\n",
       "      <td>0.287710</td>\n",
       "      <td>-0.089238</td>\n",
       "      <td>0.736324</td>\n",
       "      <td>0.732411</td>\n",
       "      <td>0.200480</td>\n",
       "      <td>0.349513</td>\n",
       "      <td>0.004500</td>\n",
       "      <td>-0.259715</td>\n",
       "      <td>0.064375</td>\n",
       "      <td>0.317605</td>\n",
       "      <td>1.000000</td>\n",
       "      <td>0.217372</td>\n",
       "    </tr>\n",
       "    <tr>\n",
       "      <th>sqft_lot15</th>\n",
       "      <td>0.095143</td>\n",
       "      <td>0.046791</td>\n",
       "      <td>0.111051</td>\n",
       "      <td>0.210560</td>\n",
       "      <td>0.749693</td>\n",
       "      <td>0.026463</td>\n",
       "      <td>0.038232</td>\n",
       "      <td>0.056924</td>\n",
       "      <td>-0.022873</td>\n",
       "      <td>0.156817</td>\n",
       "      <td>0.224224</td>\n",
       "      <td>0.018404</td>\n",
       "      <td>0.125050</td>\n",
       "      <td>-0.008107</td>\n",
       "      <td>-0.143760</td>\n",
       "      <td>-0.073607</td>\n",
       "      <td>0.260001</td>\n",
       "      <td>0.217372</td>\n",
       "      <td>1.000000</td>\n",
       "    </tr>\n",
       "  </tbody>\n",
       "</table>\n",
       "</div>"
      ],
      "text/plain": [
       "                  price  bedrooms  bathrooms  sqft_living  sqft_lot    floors  \\\n",
       "price          1.000000  0.311724   0.528622     0.703130  0.114042  0.286252   \n",
       "bedrooms       0.311724  1.000000   0.528969     0.579085  0.057510  0.208524   \n",
       "bathrooms      0.528622  0.528969   1.000000     0.761770  0.130551  0.505155   \n",
       "sqft_living    0.703130  0.579085   0.761770     1.000000  0.220729  0.397036   \n",
       "sqft_lot       0.114042  0.057510   0.130551     0.220729  1.000000  0.033810   \n",
       "floors         0.286252  0.208524   0.505155     0.397036  0.033810  1.000000   \n",
       "waterfront     0.245885 -0.006027   0.064374     0.096208  0.017006  0.023465   \n",
       "view           0.384987  0.081443   0.191813     0.277507  0.069142  0.053918   \n",
       "condition      0.046191  0.043574  -0.089238    -0.040341 -0.023487 -0.220206   \n",
       "grade          0.664251  0.358108   0.655820     0.771181  0.165825  0.464960   \n",
       "sqft_above     0.606955  0.464567   0.686502     0.869603  0.231594  0.571596   \n",
       "sqft_basement  0.319051  0.326909   0.293109     0.442161  0.025574 -0.235596   \n",
       "yr_built       0.035259  0.164654   0.479297     0.325604  0.111912  0.417716   \n",
       "yr_renovated   0.135524  0.030916   0.070800     0.066699 -0.010272  0.039263   \n",
       "zipcode       -0.042837 -0.141547  -0.208233    -0.185686 -0.131135 -0.081424   \n",
       "lat            0.311305  0.003162   0.030685     0.060958 -0.074532  0.047421   \n",
       "long           0.019508  0.123617   0.240162     0.231624  0.243125  0.167854   \n",
       "sqft_living15  0.597820  0.380155   0.577620     0.757203  0.186301  0.327709   \n",
       "sqft_lot15     0.095143  0.046791   0.111051     0.210560  0.749693  0.026463   \n",
       "\n",
       "               waterfront      view  condition     grade  sqft_above  \\\n",
       "price            0.245885  0.384987   0.046191  0.664251    0.606955   \n",
       "bedrooms        -0.006027  0.081443   0.043574  0.358108    0.464567   \n",
       "bathrooms        0.064374  0.191813  -0.089238  0.655820    0.686502   \n",
       "sqft_living      0.096208  0.277507  -0.040341  0.771181    0.869603   \n",
       "sqft_lot         0.017006  0.069142  -0.023487  0.165825    0.231594   \n",
       "floors           0.023465  0.053918  -0.220206  0.464960    0.571596   \n",
       "waterfront       1.000000  0.382797   0.015107  0.081921    0.065243   \n",
       "view             0.382797  1.000000   0.030254  0.256517    0.161258   \n",
       "condition        0.015107  0.030254   1.000000 -0.114663   -0.138191   \n",
       "grade            0.081921  0.256517  -0.114663  1.000000    0.765870   \n",
       "sqft_above       0.065243  0.161258  -0.138191  0.765870    1.000000   \n",
       "sqft_basement    0.076000  0.268142   0.169470  0.167960   -0.058358   \n",
       "yr_built        -0.026160 -0.034211  -0.314451  0.434426    0.426022   \n",
       "yr_renovated     0.091353  0.091751  -0.075111  0.023276    0.034420   \n",
       "zipcode          0.023091  0.092360  -0.002181 -0.189430   -0.246770   \n",
       "lat             -0.017895  0.003567  -0.034192  0.114085    0.012540   \n",
       "long            -0.035626 -0.091401  -0.113626  0.217225    0.342264   \n",
       "sqft_living15    0.087068  0.287710  -0.089238  0.736324    0.732411   \n",
       "sqft_lot15       0.038232  0.056924  -0.022873  0.156817    0.224224   \n",
       "\n",
       "               sqft_basement  yr_built  yr_renovated   zipcode       lat  \\\n",
       "price               0.319051  0.035259      0.135524 -0.042837  0.311305   \n",
       "bedrooms            0.326909  0.164654      0.030916 -0.141547  0.003162   \n",
       "bathrooms           0.293109  0.479297      0.070800 -0.208233  0.030685   \n",
       "sqft_living         0.442161  0.325604      0.066699 -0.185686  0.060958   \n",
       "sqft_lot            0.025574  0.111912     -0.010272 -0.131135 -0.074532   \n",
       "floors             -0.235596  0.417716      0.039263 -0.081424  0.047421   \n",
       "waterfront          0.076000 -0.026160      0.091353  0.023091 -0.017895   \n",
       "view                0.268142 -0.034211      0.091751  0.092360  0.003567   \n",
       "condition           0.169470 -0.314451     -0.075111 -0.002181 -0.034192   \n",
       "grade               0.167960  0.434426      0.023276 -0.189430  0.114085   \n",
       "sqft_above         -0.058358  0.426022      0.034420 -0.246770  0.012540   \n",
       "sqft_basement       1.000000 -0.115575      0.072331  0.072846  0.100468   \n",
       "yr_built           -0.115575  1.000000     -0.213818 -0.389020 -0.159834   \n",
       "yr_renovated        0.072331 -0.213818      1.000000  0.075034  0.034881   \n",
       "zipcode             0.072846 -0.389020      0.075034  1.000000  0.261205   \n",
       "lat                 0.100468 -0.159834      0.034881  0.261205  1.000000   \n",
       "long               -0.153436  0.473065     -0.077988 -0.561160 -0.123390   \n",
       "sqft_living15       0.200480  0.349513      0.004500 -0.259715  0.064375   \n",
       "sqft_lot15          0.018404  0.125050     -0.008107 -0.143760 -0.073607   \n",
       "\n",
       "                   long  sqft_living15  sqft_lot15  \n",
       "price          0.019508       0.597820    0.095143  \n",
       "bedrooms       0.123617       0.380155    0.046791  \n",
       "bathrooms      0.240162       0.577620    0.111051  \n",
       "sqft_living    0.231624       0.757203    0.210560  \n",
       "sqft_lot       0.243125       0.186301    0.749693  \n",
       "floors         0.167854       0.327709    0.026463  \n",
       "waterfront    -0.035626       0.087068    0.038232  \n",
       "view          -0.091401       0.287710    0.056924  \n",
       "condition     -0.113626      -0.089238   -0.022873  \n",
       "grade          0.217225       0.736324    0.156817  \n",
       "sqft_above     0.342264       0.732411    0.224224  \n",
       "sqft_basement -0.153436       0.200480    0.018404  \n",
       "yr_built       0.473065       0.349513    0.125050  \n",
       "yr_renovated  -0.077988       0.004500   -0.008107  \n",
       "zipcode       -0.561160      -0.259715   -0.143760  \n",
       "lat           -0.123390       0.064375   -0.073607  \n",
       "long           1.000000       0.317605    0.260001  \n",
       "sqft_living15  0.317605       1.000000    0.217372  \n",
       "sqft_lot15     0.260001       0.217372    1.000000  "
      ]
     },
     "execution_count": 17,
     "metadata": {},
     "output_type": "execute_result"
    }
   ],
   "source": [
    "df.corr()"
   ]
  },
  {
   "cell_type": "code",
   "execution_count": 18,
   "metadata": {},
   "outputs": [],
   "source": [
    "features =[\"floors\",\"waterfront\",\"lat\" ,\"bedrooms\" ,\"sqft_basement\" ,\"view\" ,\"bathrooms\",\"sqft_living15\",\n",
    "           \"sqft_above\",\"grade\",\"sqft_living\"]"
   ]
  },
  {
   "cell_type": "code",
   "execution_count": 19,
   "metadata": {},
   "outputs": [],
   "source": [
    "x=df[features]\n",
    "scaler=StandardScaler()\n",
    "X_scaled=scaler.fit_transform(x)"
   ]
  },
  {
   "cell_type": "code",
   "execution_count": 20,
   "metadata": {},
   "outputs": [
    {
     "data": {
      "text/plain": [
       "array([-0.84140468, -0.08278001, -0.35285157, -0.39053413, -0.67517808,\n",
       "       -0.30629857, -1.40475124, -0.93560401, -0.69843535, -0.50866202,\n",
       "       -0.96146019])"
      ]
     },
     "execution_count": 20,
     "metadata": {},
     "output_type": "execute_result"
    }
   ],
   "source": [
    "X_scaled[0]"
   ]
  },
  {
   "cell_type": "code",
   "execution_count": 21,
   "metadata": {},
   "outputs": [],
   "source": [
    "y=df['price']"
   ]
  },
  {
   "cell_type": "code",
   "execution_count": 52,
   "metadata": {},
   "outputs": [],
   "source": [
    "from sklearn.feature_selection import chi2\n",
    "from sklearn.feature_selection import SelectKBest\n",
    "best_feature=SelectKBest(score_func=chi2,k=8)\n",
    "fit=best_feature.fit(X,Y)"
   ]
  },
  {
   "cell_type": "code",
   "execution_count": 53,
   "metadata": {},
   "outputs": [],
   "source": [
    "dfscores=pd.DataFrame(fit.scores_)\n",
    "dfcolumns=pd.DataFrame(X.columns)"
   ]
  },
  {
   "cell_type": "code",
   "execution_count": 54,
   "metadata": {},
   "outputs": [],
   "source": [
    "featurescores=pd.concat([dfcolumns,dfscores],axis=1)\n",
    "featurescores.columns=['specs','score']"
   ]
  },
  {
   "cell_type": "code",
   "execution_count": 55,
   "metadata": {},
   "outputs": [
    {
     "data": {
      "text/html": [
       "<div>\n",
       "<style scoped>\n",
       "    .dataframe tbody tr th:only-of-type {\n",
       "        vertical-align: middle;\n",
       "    }\n",
       "\n",
       "    .dataframe tbody tr th {\n",
       "        vertical-align: top;\n",
       "    }\n",
       "\n",
       "    .dataframe thead th {\n",
       "        text-align: right;\n",
       "    }\n",
       "</style>\n",
       "<table border=\"1\" class=\"dataframe\">\n",
       "  <thead>\n",
       "    <tr style=\"text-align: right;\">\n",
       "      <th></th>\n",
       "      <th>specs</th>\n",
       "      <th>score</th>\n",
       "    </tr>\n",
       "  </thead>\n",
       "  <tbody>\n",
       "    <tr>\n",
       "      <th>0</th>\n",
       "      <td>floors</td>\n",
       "      <td>6.469213e+02</td>\n",
       "    </tr>\n",
       "    <tr>\n",
       "      <th>1</th>\n",
       "      <td>waterfront</td>\n",
       "      <td>4.963656e+03</td>\n",
       "    </tr>\n",
       "    <tr>\n",
       "      <th>2</th>\n",
       "      <td>lat</td>\n",
       "      <td>2.044221e+00</td>\n",
       "    </tr>\n",
       "    <tr>\n",
       "      <th>3</th>\n",
       "      <td>bedrooms</td>\n",
       "      <td>8.682783e+02</td>\n",
       "    </tr>\n",
       "    <tr>\n",
       "      <th>4</th>\n",
       "      <td>sqft_basement</td>\n",
       "      <td>2.457770e+06</td>\n",
       "    </tr>\n",
       "    <tr>\n",
       "      <th>5</th>\n",
       "      <td>view</td>\n",
       "      <td>1.116651e+04</td>\n",
       "    </tr>\n",
       "    <tr>\n",
       "      <th>6</th>\n",
       "      <td>bathrooms</td>\n",
       "      <td>1.413961e+03</td>\n",
       "    </tr>\n",
       "    <tr>\n",
       "      <th>7</th>\n",
       "      <td>sqft_living15</td>\n",
       "      <td>1.428686e+06</td>\n",
       "    </tr>\n",
       "    <tr>\n",
       "      <th>8</th>\n",
       "      <td>sqft_above</td>\n",
       "      <td>2.259856e+06</td>\n",
       "    </tr>\n",
       "    <tr>\n",
       "      <th>9</th>\n",
       "      <td>grade</td>\n",
       "      <td>1.236423e+03</td>\n",
       "    </tr>\n",
       "    <tr>\n",
       "      <th>10</th>\n",
       "      <td>sqft_living</td>\n",
       "      <td>2.739081e+06</td>\n",
       "    </tr>\n",
       "  </tbody>\n",
       "</table>\n",
       "</div>"
      ],
      "text/plain": [
       "            specs         score\n",
       "0          floors  6.469213e+02\n",
       "1      waterfront  4.963656e+03\n",
       "2             lat  2.044221e+00\n",
       "3        bedrooms  8.682783e+02\n",
       "4   sqft_basement  2.457770e+06\n",
       "5            view  1.116651e+04\n",
       "6       bathrooms  1.413961e+03\n",
       "7   sqft_living15  1.428686e+06\n",
       "8      sqft_above  2.259856e+06\n",
       "9           grade  1.236423e+03\n",
       "10    sqft_living  2.739081e+06"
      ]
     },
     "execution_count": 55,
     "metadata": {},
     "output_type": "execute_result"
    }
   ],
   "source": [
    "featurescores"
   ]
  },
  {
   "cell_type": "markdown",
   "metadata": {},
   "source": [
    "# Module 3: Exploratory Data Analysis\n"
   ]
  },
  {
   "cell_type": "markdown",
   "metadata": {},
   "source": [
    "\n",
    "\n",
    "Use the method <code>value_counts</code> to count the number of houses with unique floor values, use the method <code>.to_frame()</code> to convert it to a dataframe.\n"
   ]
  },
  {
   "cell_type": "code",
   "execution_count": 22,
   "metadata": {
    "jupyter": {
     "outputs_hidden": false
    }
   },
   "outputs": [
    {
     "data": {
      "text/html": [
       "<div>\n",
       "<style scoped>\n",
       "    .dataframe tbody tr th:only-of-type {\n",
       "        vertical-align: middle;\n",
       "    }\n",
       "\n",
       "    .dataframe tbody tr th {\n",
       "        vertical-align: top;\n",
       "    }\n",
       "\n",
       "    .dataframe thead th {\n",
       "        text-align: right;\n",
       "    }\n",
       "</style>\n",
       "<table border=\"1\" class=\"dataframe\">\n",
       "  <thead>\n",
       "    <tr style=\"text-align: right;\">\n",
       "      <th></th>\n",
       "      <th>floors</th>\n",
       "    </tr>\n",
       "  </thead>\n",
       "  <tbody>\n",
       "    <tr>\n",
       "      <th>1.0</th>\n",
       "      <td>5822</td>\n",
       "    </tr>\n",
       "    <tr>\n",
       "      <th>2.0</th>\n",
       "      <td>3633</td>\n",
       "    </tr>\n",
       "    <tr>\n",
       "      <th>1.5</th>\n",
       "      <td>1020</td>\n",
       "    </tr>\n",
       "    <tr>\n",
       "      <th>3.0</th>\n",
       "      <td>185</td>\n",
       "    </tr>\n",
       "    <tr>\n",
       "      <th>2.5</th>\n",
       "      <td>62</td>\n",
       "    </tr>\n",
       "    <tr>\n",
       "      <th>3.5</th>\n",
       "      <td>4</td>\n",
       "    </tr>\n",
       "  </tbody>\n",
       "</table>\n",
       "</div>"
      ],
      "text/plain": [
       "     floors\n",
       "1.0    5822\n",
       "2.0    3633\n",
       "1.5    1020\n",
       "3.0     185\n",
       "2.5      62\n",
       "3.5       4"
      ]
     },
     "execution_count": 22,
     "metadata": {},
     "output_type": "execute_result"
    }
   ],
   "source": [
    "df['floors'].value_counts().to_frame()"
   ]
  },
  {
   "cell_type": "markdown",
   "metadata": {},
   "source": [
    "\n",
    "\n",
    "Use the function <code>boxplot</code> in the seaborn library  to  determine whether houses with a waterfront view or without a waterfront view have more price outliers.\n"
   ]
  },
  {
   "cell_type": "code",
   "execution_count": 23,
   "metadata": {
    "jupyter": {
     "outputs_hidden": false
    }
   },
   "outputs": [
    {
     "data": {
      "image/png": "[encoded data removed]",
      "text/plain": [
       "<Figure size 432x288 with 1 Axes>"
      ]
     },
     "metadata": {
      "needs_background": "light"
     },
     "output_type": "display_data"
    }
   ],
   "source": [
    "sns.boxplot(x='waterfront',y='price',data=df)\n",
    "plt.xlabel('waterfront view')\n",
    "plt.ylabel('price')\n",
    "plt.show()"
   ]
  },
  {
   "cell_type": "markdown",
   "metadata": {},
   "source": [
    "\n",
    "Use the function <code>regplot</code>  in the seaborn library  to  determine if the feature <code>sqft_above</code> is negatively or positively correlated with price.\n"
   ]
  },
  {
   "cell_type": "code",
   "execution_count": 24,
   "metadata": {
    "jupyter": {
     "outputs_hidden": false
    }
   },
   "outputs": [
    {
     "data": {
      "text/plain": [
       "(0.0, 8081250.0)"
      ]
     },
     "execution_count": 24,
     "metadata": {},
     "output_type": "execute_result"
    },
    {
     "data": {
      "image/png": "[encoded data removed]",
      "text/plain": [
       "<Figure size 432x288 with 1 Axes>"
      ]
     },
     "metadata": {
      "needs_background": "light"
     },
     "output_type": "display_data"
    }
   ],
   "source": [
    "sns.regplot(x='waterfront',y='price',data=df)\n",
    "plt.ylim(0,)"
   ]
  },
  {
   "cell_type": "markdown",
   "metadata": {},
   "source": [
    "We can use the Pandas method <code>corr()</code>  to find the feature other than price that is most correlated with price.\n"
   ]
  },
  {
   "cell_type": "code",
   "execution_count": 25,
   "metadata": {
    "jupyter": {
     "outputs_hidden": false
    }
   },
   "outputs": [
    {
     "data": {
      "text/plain": [
       "zipcode         -0.042837\n",
       "long             0.019508\n",
       "yr_built         0.035259\n",
       "condition        0.046191\n",
       "sqft_lot15       0.095143\n",
       "sqft_lot         0.114042\n",
       "yr_renovated     0.135524\n",
       "waterfront       0.245885\n",
       "floors           0.286252\n",
       "lat              0.311305\n",
       "bedrooms         0.311724\n",
       "sqft_basement    0.319051\n",
       "view             0.384987\n",
       "bathrooms        0.528622\n",
       "sqft_living15    0.597820\n",
       "sqft_above       0.606955\n",
       "grade            0.664251\n",
       "sqft_living      0.703130\n",
       "price            1.000000\n",
       "Name: price, dtype: float64"
      ]
     },
     "execution_count": 25,
     "metadata": {},
     "output_type": "execute_result"
    }
   ],
   "source": [
    "df.corr()['price'].sort_values()"
   ]
  },
  {
   "cell_type": "markdown",
   "metadata": {},
   "source": [
    "# Module 4: Model Development\n"
   ]
  },
  {
   "cell_type": "markdown",
   "metadata": {},
   "source": [
    "We can Fit a linear regression model using the  longitude feature <code>'long'</code> and  caculate the R^2.\n"
   ]
  },
  {
   "cell_type": "code",
   "execution_count": 67,
   "metadata": {
    "jupyter": {
     "outputs_hidden": false
    }
   },
   "outputs": [
    {
     "data": {
      "text/plain": [
       "0.6446835579130661"
      ]
     },
     "execution_count": 67,
     "metadata": {},
     "output_type": "execute_result"
    }
   ],
   "source": [
    "X = (df[['long',\"floors\",\"waterfront\",\"lat\",\"bedrooms\",\"sqft_basement\",\"view\",\"bathrooms\",\"sqft_living15\",\"sqft_above\",\"sqft_living\"]])\n",
    "Y= df['price']\n",
    "lm = LinearRegression()\n",
    "lm.fit(X,Y)\n",
    "lm.score(X, Y)"
   ]
  },
  {
   "cell_type": "markdown",
   "metadata": {},
   "source": [
    "\n",
    "\n",
    "Fit a linear regression model to predict the <code>'price'</code> using the feature <code>'sqft_living'</code> then calculate the R^2. \n"
   ]
  },
  {
   "cell_type": "code",
   "execution_count": 27,
   "metadata": {
    "jupyter": {
     "outputs_hidden": false
    }
   },
   "outputs": [
    {
     "name": "stdout",
     "output_type": "stream",
     "text": [
      "0.494391881150825\n"
     ]
    }
   ],
   "source": [
    "from sklearn.metrics import r2_score\n",
    "lm=LinearRegression()\n",
    "x=df[['sqft_living']]\n",
    "y=df[['price']]\n",
    "lm.fit(x,y)\n",
    "y_pred=lm.predict(x)\n",
    "r2=r2_score(y,y_pred)\n",
    "print(r2)"
   ]
  },
  {
   "cell_type": "markdown",
   "metadata": {},
   "source": [
    "Then calculate the R^2. Take a screenshot of your code.\n"
   ]
  },
  {
   "cell_type": "code",
   "execution_count": 28,
   "metadata": {
    "scrolled": true
   },
   "outputs": [
    {
     "data": {
      "text/plain": [
       "price  \n",
       "350000     103\n",
       "450000      93\n",
       "325000      83\n",
       "400000      79\n",
       "250000      77\n",
       "          ... \n",
       "446450       1\n",
       "446250       1\n",
       "444950       1\n",
       "444000       1\n",
       "7700000      1\n",
       "Length: 2554, dtype: int64"
      ]
     },
     "execution_count": 28,
     "metadata": {},
     "output_type": "execute_result"
    }
   ],
   "source": [
    "y.value_counts()"
   ]
  },
  {
   "cell_type": "markdown",
   "metadata": {},
   "source": [
    "Fit a linear regression model to predict the <code>'price'</code> using the list of features:"
   ]
  },
  {
   "cell_type": "code",
   "execution_count": 29,
   "metadata": {
    "jupyter": {
     "outputs_hidden": false
    }
   },
   "outputs": [
    {
     "data": {
      "text/plain": [
       "0.6489042881450955"
      ]
     },
     "execution_count": 29,
     "metadata": {},
     "output_type": "execute_result"
    }
   ],
   "source": [
    "lm=LinearRegression()\n",
    "lm.fit(X_scaled,y)\n",
    "lm.score(X_scaled,y)"
   ]
  },
  {
   "cell_type": "markdown",
   "metadata": {},
   "source": [
    "\n",
    "\n",
    "Creating a list of tuples, the first element in the tuple contains the name of the estimator:\n",
    "\n",
    "<code>'scale'</code>\n",
    "\n",
    "<code>'polynomial'</code>\n",
    "\n",
    "<code>'model'</code>\n",
    "\n",
    "The second element in the tuple  contains the model constructor\n",
    "\n",
    "<code>StandardScaler()</code>\n",
    "\n",
    "<code>PolynomialFeatures(include_bias=False)</code>\n",
    "\n",
    "<code>LinearRegression()</code>\n"
   ]
  },
  {
   "cell_type": "code",
   "execution_count": 30,
   "metadata": {},
   "outputs": [],
   "source": [
    "Input=[('scale',StandardScaler()),('polynomial', PolynomialFeatures(include_bias=False)),('model',LinearRegression())]"
   ]
  },
  {
   "cell_type": "markdown",
   "metadata": {},
   "source": [
    "\n",
    "\n",
    "Use the list to create a pipeline object to predict the 'price', fit the object using the features in the list <code>features</code>, and calculate the R^2.\n"
   ]
  },
  {
   "cell_type": "code",
   "execution_count": 31,
   "metadata": {
    "jupyter": {
     "outputs_hidden": false
    }
   },
   "outputs": [
    {
     "data": {
      "text/plain": [
       "Pipeline(steps=[('scale', StandardScaler()),\n",
       "                ('polynomial', PolynomialFeatures(include_bias=False)),\n",
       "                ('model', LinearRegression())])"
      ]
     },
     "execution_count": 31,
     "metadata": {},
     "output_type": "execute_result"
    }
   ],
   "source": [
    "pipe=Pipeline(Input)\n",
    "pipe"
   ]
  },
  {
   "cell_type": "markdown",
   "metadata": {},
   "source": [
    "# Module 5: Model Evaluation and Refinement\n"
   ]
  },
  {
   "cell_type": "markdown",
   "metadata": {},
   "source": [
    "Import the necessary modules:\n"
   ]
  },
  {
   "cell_type": "code",
   "execution_count": 32,
   "metadata": {
    "jupyter": {
     "outputs_hidden": false
    }
   },
   "outputs": [
    {
     "name": "stdout",
     "output_type": "stream",
     "text": [
      "done\n"
     ]
    }
   ],
   "source": [
    "from sklearn.model_selection import cross_val_score\n",
    "from sklearn.model_selection import train_test_split\n",
    "print(\"done\")"
   ]
  },
  {
   "cell_type": "markdown",
   "metadata": {},
   "source": [
    "We will split the data into training and testing sets:\n"
   ]
  },
  {
   "cell_type": "code",
   "execution_count": 33,
   "metadata": {
    "jupyter": {
     "outputs_hidden": false
    }
   },
   "outputs": [
    {
     "name": "stdout",
     "output_type": "stream",
     "text": [
      "number of test samples: 2146\n",
      "number of training samples: 8580\n"
     ]
    }
   ],
   "source": [
    "features =[\"floors\",\"waterfront\",\"lat\" ,\"bedrooms\" ,\"sqft_basement\" ,\"view\" ,\"bathrooms\",\"sqft_living15\",\"sqft_above\",\"grade\",\"sqft_living\"]    \n",
    "X = df[features]\n",
    "Y = df['price']\n",
    "\n",
    "X_train, X_test, y_train, y_test  = train_test_split(X_scaled, Y, test_size=0.20, random_state=42)\n",
    "\n",
    "\n",
    "print(\"number of test samples:\", X_test.shape[0])\n",
    "print(\"number of training samples:\",X_train.shape[0])"
   ]
  },
  {
   "cell_type": "markdown",
   "metadata": {},
   "source": [
    "\n",
    "Use and fit a Ridge regression object using the training data, set the regularization parameter to 0.1, and calculate the R^2 using the test data.\n"
   ]
  },
  {
   "cell_type": "code",
   "execution_count": 34,
   "metadata": {},
   "outputs": [],
   "source": [
    "from sklearn.linear_model import Ridge"
   ]
  },
  {
   "cell_type": "code",
   "execution_count": 35,
   "metadata": {
    "jupyter": {
     "outputs_hidden": false
    }
   },
   "outputs": [
    {
     "data": {
      "text/plain": [
       "0.6482481530101893"
      ]
     },
     "execution_count": 35,
     "metadata": {},
     "output_type": "execute_result"
    }
   ],
   "source": [
    "RigeModel=Ridge(alpha=0.1)\n",
    "RigeModel.fit(X_train,y_train)\n",
    "RigeModel.score(X_test,y_test)"
   ]
  },
  {
   "cell_type": "markdown",
   "metadata": {},
   "source": [
    "\n",
    "\n",
    "Perform a second order polynomial transform on both the training data and testing data. Create and fit a Ridge regression object using the training data, set the regularisation parameter to 0.1, and calculate the R^2 utilising the test data provided. \n"
   ]
  },
  {
   "cell_type": "code",
   "execution_count": 32,
   "metadata": {
    "jupyter": {
     "outputs_hidden": false
    }
   },
   "outputs": [
    {
     "data": {
      "text/plain": [
       "0.6482481530101893"
      ]
     },
     "execution_count": 32,
     "metadata": {},
     "output_type": "execute_result"
    }
   ],
   "source": [
    "p=PolynomialFeatures(degree=2)\n",
    "X_train_p=p.fit_transform(X_train)\n",
    "X_test_p=p.fit_transform(X_test)\n",
    "RigeModel=Ridge(alpha=0.1)\n",
    "RigeModel.fit(X_train,y_train)\n",
    "RigeModel.score(X_test,y_test)"
   ]
  },
  {
   "cell_type": "code",
   "execution_count": 69,
   "metadata": {},
   "outputs": [],
   "source": [
    "from sklearn.ensemble import RandomForestRegressor\n",
    "from sklearn.metrics import accuracy_score\n",
    "from sklearn.metrics import classification_report, confusion_matrix,accuracy_score\n",
    "from sklearn.preprocessing import StandardScaler,MinMaxScaler"
   ]
  },
  {
   "cell_type": "code",
   "execution_count": 70,
   "metadata": {},
   "outputs": [],
   "source": [
    "classifier= RandomForestRegressor(n_estimators=100)"
   ]
  },
  {
   "cell_type": "code",
   "execution_count": 71,
   "metadata": {},
   "outputs": [
    {
     "data": {
      "text/plain": [
       "RandomForestRegressor()"
      ]
     },
     "execution_count": 71,
     "metadata": {},
     "output_type": "execute_result"
    }
   ],
   "source": [
    "classifier.fit(X_train,y_train)"
   ]
  },
  {
   "cell_type": "code",
   "execution_count": 72,
   "metadata": {},
   "outputs": [],
   "source": [
    "y_pred=classifier.predict(X_test)"
   ]
  },
  {
   "cell_type": "code",
   "execution_count": 77,
   "metadata": {},
   "outputs": [
    {
     "data": {
      "text/plain": [
       "0.8268807684605783"
      ]
     },
     "execution_count": 77,
     "metadata": {},
     "output_type": "execute_result"
    }
   ],
   "source": [
    "r2_score(y_test,y_pred)"
   ]
  },
  {
   "cell_type": "markdown",
   "metadata": {},
   "source": [
    "# Thank You"
   ]
  },
  {
   "cell_type": "code",
   "execution_count": null,
   "metadata": {},
   "outputs": [],
   "source": []
  },
  {
   "cell_type": "code",
   "execution_count": null,
   "metadata": {},
   "outputs": [],
   "source": []
  }
 ],
 "metadata": {
  "kernelspec": {
   "display_name": "Python 3 (ipykernel)",
   "language": "python",
   "name": "python3"
  },
  "language_info": {
   "codemirror_mode": {
    "name": "ipython",
    "version": 3
   },
   "file_extension": ".py",
   "mimetype": "text/x-python",
   "name": "python",
   "nbconvert_exporter": "python",
   "pygments_lexer": "ipython3",
   "version": "3.9.12"
  }
 },
 "nbformat": 4,
 "nbformat_minor": 4
}
